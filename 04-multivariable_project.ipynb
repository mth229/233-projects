{
  "cells": [
     {"cell_type":"markdown","source":"<h1>Questions to be handed in on using Julia for functions of several variables</h1>","metadata":{"internals":{"slide_type":"subslide","slide_helper":"subslide_end"},"slideshow":{"slide_type":"slide"},"slide_helper":"slide_end"}},
{"cell_type":"markdown","source":"<p>(Thanks to Thomas' Calculus for the problems.)</p>","metadata":{}},
{"cell_type":"markdown","source":"<h3>Quick background</h3>","metadata":{"internals":{"slide_type":"subslide"},"slideshow":{"slide_type":"subslide"},"slide_helper":"slide_end"}},
{"cell_type":"markdown","source":"<p>Read the notes for the background.</p>","metadata":{}},
{"cell_type":"markdown","source":"<p>We use all the following, which can be replaced by <code>using MTH229</code>, if that package is installed:</p>","metadata":{}},
{"outputs":[],"cell_type":"code","source":["using Plots, SymPy, ForwardDiff, LinearAlgebra\n\nxs_ys(vs) = (A=hcat(vs...); Tuple([A[i,:] for i in eachindex(vs[1])]))\nxs_ys(v,vs...) = xs_ys([v, vs...])\nxs_ys(r::Function, a, b, n=100) = xs_ys(r.(range(a, stop=b, length=n)))\n\nfunction arrow!(plt::Plots.Plot, p, v; kwargs...)\n  if length(p) == 2\n     quiver!(plt, xs_ys([p])..., quiver=Tuple(xs_ys([v])); kwargs...)\n  elseif length(p) == 3\n    # 3d quiver needs support\n    # https://github.com/JuliaPlots/Plots.jl/issues/319#issue-159652535\n    # headless arrow instead\n    plot!(plt, xs_ys(p, p+v)...; kwargs...)\n\tend\nend\narrow!(p,v;kwargs...) = arrow!(Plots.current(), p, v; kwargs...)\n\nForwardDiff.gradient(ex::SymPy.Sym, vars=free_symbols(ex)) = [diff(ex, v) for v in vars]"],"metadata":{},"execution_count":1},
{"cell_type":"markdown","source":"<h2>Questions</h2>","metadata":{"internals":{"slide_type":"subslide","slide_helper":"subslide_end"},"slideshow":{"slide_type":"slide"},"slide_helper":"slide_end"}},
{"cell_type":"markdown","source":"<ul>\n<li><p>Make a plot of the surface showing $f(x,y)= x \\cdot y \\cdot e^{-y^2}$ over the region $[-3,3] \\times [-3,3]$.</p>\n</li>\n</ul>","metadata":{}},
{"outputs":[{"output_type":"execute_result","data":{"text/latex":[""]},"metadata":{},"execution_count":1}],"cell_type":"code","source":[""],"metadata":{},"execution_count":1},
{"cell_type":"markdown","source":"<p>Does the largest value over this region occur in the interior or on the boundary?</p>","metadata":{}},
{"outputs":[{"output_type":"execute_result","data":{"text/latex":[""]},"metadata":{},"execution_count":1}],"cell_type":"code","source":[""],"metadata":{},"execution_count":1},
{"cell_type":"markdown","source":"<ul>\n<li><p>Make a contour plot of $\\sin(x/2) - \\cos(y) \\cdot \\sqrt{x^2 + y^2}$ over the region $[-5,5] \\times [-5, 5]$.</p>\n</li>\n</ul>","metadata":{}},
{"outputs":[{"output_type":"execute_result","data":{"text/latex":[""]},"metadata":{},"execution_count":1}],"cell_type":"code","source":[""],"metadata":{},"execution_count":1},
{"cell_type":"markdown","source":"<p>Are there any closed contours in the region? What does this suggest about where any maximal values might be?</p>","metadata":{}},
{"outputs":[{"output_type":"execute_result","data":{"text/latex":[""]},"metadata":{},"execution_count":1}],"cell_type":"code","source":[""],"metadata":{},"execution_count":1},
{"cell_type":"markdown","source":"<ul>\n<li><p>Compute the gradient of the function $f(x,y) = 2y/(y + \\cos(x))$. (You can do this symbolically.)</p>\n</li>\n</ul>","metadata":{}},
{"outputs":[{"output_type":"execute_result","data":{"text/latex":[""]},"metadata":{},"execution_count":1}],"cell_type":"code","source":[""],"metadata":{},"execution_count":1},
{"cell_type":"markdown","source":"<ul>\n<li><p>Let $f(x,y) = (x^3 - y^3) \\cdot e^{-(x^2 + y^2)}$.</p>\n</li>\n</ul>","metadata":{}},
{"cell_type":"markdown","source":"<p>Make a surface plot over the square region $[-5,5] \\times [-5,5]$.</p>","metadata":{}},
{"outputs":[{"output_type":"execute_result","data":{"text/latex":[""]},"metadata":{},"execution_count":1}],"cell_type":"code","source":[""],"metadata":{},"execution_count":1},
{"cell_type":"markdown","source":"<p>Find the gradient. What is $\\partial f/ \\partial x$?</p>","metadata":{}},
{"outputs":[{"output_type":"execute_result","data":{"text/latex":[""]},"metadata":{},"execution_count":1}],"cell_type":"code","source":[""],"metadata":{},"execution_count":1},
{"cell_type":"markdown","source":"<p>Compute $f_{xx}$</p>","metadata":{}},
{"outputs":[{"output_type":"execute_result","data":{"text/latex":[""]},"metadata":{},"execution_count":1}],"cell_type":"code","source":[""],"metadata":{},"execution_count":1},
{"cell_type":"markdown","source":"<ul>\n<li><p>Let $f(x,t) = \\sin(x + c\\cdot t)$ show for any $c$ that</p>\n</li>\n</ul>","metadata":{}},
{"cell_type":"markdown","source":"\n$$\n\\frac{\\partial^2 f}{\\partial t^2} = c^2 \\frac{\\partial f^2}{\\partial x^2}.\n$$\n","metadata":{}},
{"outputs":[{"output_type":"execute_result","data":{"text/latex":[""]},"metadata":{},"execution_count":1}],"cell_type":"code","source":[""],"metadata":{},"execution_count":1},
{"cell_type":"markdown","source":"<ul>\n<li><p>Graph the plane through the origin which contains the vectors $\\hat{u} = \\langle 6, 4, −1\\rangle$ and $\\hat{v} = \\langle −3, 12, 5 \\rangle$. On the same graph, plot the cross product, $w = \\hat{u} \\times \\hat{v}$ of these vectors.</p>\n</li>\n</ul>","metadata":{}},
{"outputs":[{"output_type":"execute_result","data":{"text/latex":[""]},"metadata":{},"execution_count":1}],"cell_type":"code","source":[""],"metadata":{},"execution_count":1},
{"cell_type":"markdown","source":"<p>Is $w$ perpendicular or parallel to both $\\hat{u}$ and $\\hat{v}$?</p>","metadata":{}},
{"outputs":[{"output_type":"execute_result","data":{"text/latex":[""]},"metadata":{},"execution_count":1}],"cell_type":"code","source":[""],"metadata":{},"execution_count":1},
{"cell_type":"markdown","source":"<p>Is $w$ a <em>unit</em> vector?</p>","metadata":{}},
{"outputs":[{"output_type":"execute_result","data":{"text/latex":[""]},"metadata":{},"execution_count":1}],"cell_type":"code","source":[""],"metadata":{},"execution_count":1},
{"cell_type":"markdown","source":"<h2>Optimization</h2>","metadata":{"internals":{"slide_type":"subslide","slide_helper":"subslide_end"},"slideshow":{"slide_type":"slide"},"slide_helper":"slide_end"}},
{"cell_type":"markdown","source":"<ul>\n<li><p>For $f(x,y) = 2x^3 + 3xy + 2y^3$ find all points where the gradient is the zero vector.</p>\n</li>\n</ul>","metadata":{}},
{"outputs":[{"output_type":"execute_result","data":{"text/latex":[""]},"metadata":{},"execution_count":1}],"cell_type":"code","source":[""],"metadata":{},"execution_count":1},
{"cell_type":"markdown","source":"<p>Find the Hessian of $f$</p>","metadata":{}},
{"outputs":[{"output_type":"execute_result","data":{"text/latex":[""]},"metadata":{},"execution_count":1}],"cell_type":"code","source":[""],"metadata":{},"execution_count":1},
{"cell_type":"markdown","source":"<p>Use the second partials test to say whether these values are a relative maximum, minimum, saddle point. If the second derivative test is inconclusive, say that.</p>","metadata":{}},
{"outputs":[{"output_type":"execute_result","data":{"text/latex":[""]},"metadata":{},"execution_count":1}],"cell_type":"code","source":[""],"metadata":{},"execution_count":1},
{"cell_type":"markdown","source":"<h2>Lagrange multipliers</h2>","metadata":{"internals":{"slide_type":"subslide","slide_helper":"subslide_end"},"slideshow":{"slide_type":"slide"},"slide_helper":"slide_end"}},
{"cell_type":"markdown","source":"<ul>\n<li><p>Let $f(x,y) = x^3 \\cdot y^3$. Using Lagrange multipliers, find the maximum value of $f$ over the unit disc, $x^2 + y^2 = 1$.</p>\n</li>\n</ul>","metadata":{}},
{"outputs":[{"output_type":"execute_result","data":{"text/latex":[""]},"metadata":{},"execution_count":1}],"cell_type":"code","source":[""],"metadata":{},"execution_count":1}
    ],
 "metadata": {
  "language_info": {
   "file_extension": ".jl",
   "mimetype": "application/julia",
   "name": "julia",
   "version": "0.6"
  },
 "kernelspec": {
   "display_name": "Julia 1.0.0",
   "language": "julia",
   "name": "julia-1.0"
  }

 },
 "nbformat": 4,
 "nbformat_minor": 2

}
